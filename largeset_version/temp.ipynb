{
 "cells": [
  {
   "cell_type": "markdown",
   "metadata": {},
   "source": [
    "## Imports"
   ]
  },
  {
   "cell_type": "code",
   "execution_count": null,
   "metadata": {},
   "outputs": [],
   "source": [
    "import pandas as pd\n",
    "import numpy as np\n",
    "from sklearn.model_selection import train_test_split\n",
    "from sklearn.ensemble import RandomForestClassifier\n",
    "from sklearn.linear_model import LogisticRegression\n",
    "from sklearn.metrics import accuracy_score\n",
    "import matplotlib.pyplot as plt\n",
    "\n",
    "from sklearn.model_selection import train_test_split\n",
    "from sklearn.ensemble import RandomForestClassifier\n",
    "from sklearn.ensemble import GradientBoostingClassifier\n",
    "from sklearn.ensemble import AdaBoostClassifier\n",
    "from sklearn.ensemble import VotingClassifier\n",
    "from sklearn.linear_model import LogisticRegression\n",
    "from sklearn.svm import SVC"
   ]
  },
  {
   "cell_type": "markdown",
   "metadata": {},
   "source": [
    "## Data"
   ]
  },
  {
   "cell_type": "code",
   "execution_count": null,
   "metadata": {},
   "outputs": [],
   "source": [
    "file_path = 'SpotifyFeatures.csv'\n",
    "data = pd.read_csv(file_path)\n",
    "data.head()"
   ]
  },
  {
   "cell_type": "markdown",
   "metadata": {},
   "source": [
    "## Data preprocessing"
   ]
  },
  {
   "cell_type": "markdown",
   "metadata": {},
   "source": [
    "### Remove outliers"
   ]
  },
  {
   "cell_type": "code",
   "execution_count": null,
   "metadata": {},
   "outputs": [],
   "source": [
    "# Removing outliers\n",
    "data = data[data['duration_ms'] < 500000]\n",
    "data = data[data[\"loudness\"] > -30]\n",
    "\n",
    "# Add genre count column\n",
    "data['genre_count'] = data.groupby('track_id')['genre'].transform('count')\n",
    "\n",
    "# drop gernre A Capella duo to low count\n",
    "data = data[data['genre'] != 'A Capella']\n",
    "\n",
    "# Combine union child genres\n",
    "data['genre'] = data['genre'].replace('Children’s Music', 'Children\\'s Music')\n",
    "\n",
    "# Convert time signature to int\n",
    "data['time_signature'] = data['time_signature'].apply(lambda x: x.split('/')[0])\n",
    "\n",
    "# Convert the mode column to 1 for major and 0 for minor\n",
    "data['mode'] = data['mode'].replace(\"Minor\", 0)\n",
    "data['mode'] = data['mode'].replace(\"Major\", 1)"
   ]
  },
  {
   "cell_type": "code",
   "execution_count": null,
   "metadata": {},
   "outputs": [],
   "source": [
    "# Function to convert pitch to number\n",
    "def pitch_to_number(pitch):\n",
    "    pitch_map = {\n",
    "        'C': 0,\n",
    "        'C#': 1, 'Db': 1,\n",
    "        'D': 2,\n",
    "        'D#': 3, 'Eb': 3,\n",
    "        'E': 4, 'Fb': 4,\n",
    "        'E#': 5, 'F': 5,\n",
    "        'F#': 6, 'Gb': 6,\n",
    "        'G': 7,\n",
    "        'G#': 8, 'Ab': 8,\n",
    "        'A': 9,\n",
    "        'A#': 10, 'Bb': 10,\n",
    "        'B': 11, 'Cb': 11\n",
    "    }\n",
    "    return pitch_map.get(pitch, None)\n",
    "\n",
    "# Replace the pitch column with its numeric representation\n",
    "data['key'] = data['key'].apply(pitch_to_number)"
   ]
  },
  {
   "cell_type": "code",
   "execution_count": null,
   "metadata": {},
   "outputs": [],
   "source": [
    "# group by genre\n",
    "grouped = data.groupby('genre')\n",
    "#print(grouped.size())\n",
    "\n",
    "# Group by genre and calculate mean popularity\n",
    "grouped = data.groupby('genre')\n",
    "mean_popularity = grouped['popularity'].mean()\n",
    "\n",
    "# Function to label rows as 'bop' or 'flop'\n",
    "def label_popularity(row, mean_popularity):\n",
    "    if row['popularity'] >= mean_popularity[row['genre']]:\n",
    "        return 'bop'\n",
    "    else:\n",
    "        return 'flop'\n",
    "\n",
    "# Apply the function to each row\n",
    "data['popularity_label'] = data.apply(lambda row: label_popularity(row, mean_popularity), axis=1)\n",
    "\n",
    "# Splitting the data into bop and flop, ensuring each genre is split 50/50\n",
    "# This step might require adjusting the labels for genres with an odd number of entries\n",
    "for genre in data['genre'].unique():\n",
    "    genre_data = data[data['genre'] == genre]\n",
    "    n = len(genre_data) // 2\n",
    "    popular_indices = genre_data.nlargest(n, 'popularity').index\n",
    "    nonpopular_indices = genre_data.nsmallest(n, 'popularity').index\n",
    "    data.loc[popular_indices, 'popularity_label'] = 'bop'\n",
    "    data.loc[nonpopular_indices, 'popularity_label'] = 'flop'\n",
    "\n",
    "data.head()  # Display the first few rows of the modified DataFrame"
   ]
  },
  {
   "cell_type": "code",
   "execution_count": null,
   "metadata": {},
   "outputs": [],
   "source": [
    "# Calculate and print the size difference between nonpopular and popular for each genre\n",
    "size_difference = data.groupby(['genre', 'popularity_label']).size().unstack().fillna(0)\n",
    "size_difference['difference'] = size_difference['popular'] - size_difference['nonpopular']\n",
    "size_difference\n"
   ]
  },
  {
   "cell_type": "code",
   "execution_count": null,
   "metadata": {},
   "outputs": [],
   "source": [
    "# split data by genre\n",
    "data['genre'].unique()\n",
    "data['genre'].value_counts()\n",
    "\n",
    "\n",
    "# create new column for popularity over 50\n",
    "data['popularity_over_50'] = data['popularity'] >= 50\n",
    "data['popularity_over_50'].value_counts()\n",
    "\n",
    "# create table graph for every genre and popularity over 50\n",
    "\n",
    "\n",
    "data.groupby(['genre', 'popularity_over_50']).size().unstack().plot(kind='bar', stacked=True, figsize=(20, 10))\n",
    "\n",
    "# make one but with nonpopular and popular\n",
    "data.groupby(['genre', 'popularity_label']).size().unstack().plot(kind='bar', stacked=True, figsize=(20, 10))"
   ]
  },
  {
   "cell_type": "code",
   "execution_count": null,
   "metadata": {},
   "outputs": [],
   "source": [
    "# Calculate and print the splitting point (mean popularity) for every genre\n",
    "splitting_points = mean_popularity.to_dict()\n",
    "splitting_points"
   ]
  },
  {
   "cell_type": "markdown",
   "metadata": {},
   "source": [
    "### Model"
   ]
  },
  {
   "cell_type": "code",
   "execution_count": null,
   "metadata": {},
   "outputs": [],
   "source": [
    "\n",
    "# Create a dictionary of classifiers, one for each genre, random forest classifier\n",
    "classifiers = {}\n",
    "\n",
    "# Create a classifier for each genre\n",
    "for genre in data['genre'].unique():\n",
    "    # Create a new DataFrame containing only the current genre\n",
    "    genre_data = data[data['genre'] == genre]\n",
    "\n",
    "    random_seed = 1337\n",
    "    # Split the data into training and testing sets\n",
    "    X_train, X_test, y_train, y_test = train_test_split(genre_data[['acousticness', 'danceability', 'duration_ms', 'energy', 'instrumentalness', 'liveness', 'loudness', 'speechiness', 'tempo', 'genre_count']], genre_data['popularity_label'], test_size=0.2, random_state=random_seed)\n",
    "\n",
    "\n",
    "    \n",
    "    # add more to votingClassifier\n",
    "    classifier = VotingClassifier(\n",
    "    estimators=[\n",
    "        ('rf', RandomForestClassifier(n_estimators=50, random_state=random_seed)),\n",
    "        ('gb', GradientBoostingClassifier(n_estimators=50, random_state=random_seed)),\n",
    "        ('ab', AdaBoostClassifier(n_estimators=50, random_state=random_seed)),\n",
    "        ('lr', LogisticRegression(random_state=random_seed)),\n",
    "        ('svc', SVC(random_state=random_seed))  # Note: SVC doesn't have a random_state parameter in older versions\n",
    "    ], \n",
    "    voting='hard'\n",
    "    )\n",
    "\n",
    "    # Train the classifier\n",
    "    classifier.fit(X_train, y_train)\n",
    "    # Add the classifier to the dictionary of classifiers\n",
    "    classifiers[genre] = classifier\n",
    "\n",
    "    # add accuracy score to dictionary\n",
    "    classifiers[genre] = classifier.score(X_test, y_test)\n",
    "    print(\"genre: \", genre, \" Accuracy score (training): {0:.3f}\".format(classifier.score(X_train, y_train)))\n",
    "    print(\"genre: \", genre, \" Accuracy score (validation): {0:.3f}\".format(classifier.score(X_test, y_test)))\n",
    "\n",
    "    \n",
    "\n",
    "# Print the dictionary of classifiers\n",
    "classifiers"
   ]
  },
  {
   "cell_type": "code",
   "execution_count": null,
   "metadata": {},
   "outputs": [],
   "source": [
    "# print avg accuracy score\n",
    "avg = 0\n",
    "for genre in classifiers:\n",
    "    avg += classifiers[genre]\n",
    "avg /= len(classifiers)\n",
    "print(avg)\n"
   ]
  },
  {
   "cell_type": "code",
   "execution_count": null,
   "metadata": {},
   "outputs": [],
   "source": [
    "plot_scores = []\n",
    "\n",
    "for n_estimator in range(1, 501, 50):\n",
    "    classifiers = {}\n",
    "    avg_score = 0\n",
    "\n",
    "    for genre in data['genre'].unique():\n",
    "        genre_data = data[data['genre'] == genre]\n",
    "        random_seed = 1337\n",
    "        X_train, X_test, y_train, y_test = train_test_split(\n",
    "            genre_data[['acousticness', 'danceability', 'duration_ms', 'energy', 'instrumentalness', 'liveness', 'loudness', 'speechiness', 'tempo', 'genre_count']], \n",
    "            genre_data['popularity_label'], \n",
    "            test_size=0.2, \n",
    "            random_state=random_seed\n",
    "        )\n",
    "\n",
    "        classifier = VotingClassifier(\n",
    "            estimators=[\n",
    "                ('rf', RandomForestClassifier(n_estimators=n_estimator, random_state=random_seed)),\n",
    "                ('gb', GradientBoostingClassifier(n_estimators=n_estimator, random_state=random_seed)),\n",
    "                ('ab', AdaBoostClassifier(n_estimators=n_estimator, random_state=random_seed)),\n",
    "                ('lr', LogisticRegression(random_state=random_seed)),\n",
    "                ('svc', SVC(random_state=random_seed))\n",
    "            ], \n",
    "            voting='hard'\n",
    "        )\n",
    "\n",
    "        classifier.fit(X_train, y_train)\n",
    "        score = classifier.score(X_test, y_test)\n",
    "        classifiers[genre] = score\n",
    "        avg_score += score\n",
    "\n",
    "    avg_score /= len(data['genre'].unique())\n",
    "    plot_scores.append(avg_score)\n",
    "\n",
    "plt.plot(range(1, 501, 50), plot_scores)\n",
    "plt.ylabel('Average Accuracy Score')\n",
    "plt.xlabel('Number of Estimators')\n",
    "plt.show()"
   ]
  }
 ],
 "metadata": {
  "kernelspec": {
   "display_name": "Python 3",
   "language": "python",
   "name": "python3"
  },
  "language_info": {
   "codemirror_mode": {
    "name": "ipython",
    "version": 3
   },
   "file_extension": ".py",
   "mimetype": "text/x-python",
   "name": "python",
   "nbconvert_exporter": "python",
   "pygments_lexer": "ipython3",
   "version": "3.9.13"
  }
 },
 "nbformat": 4,
 "nbformat_minor": 2
}
