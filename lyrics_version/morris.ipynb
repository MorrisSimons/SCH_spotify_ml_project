{
 "cells": [
  {
   "cell_type": "code",
   "execution_count": null,
   "metadata": {},
   "outputs": [],
   "source": [
    "# Read data from files \n",
    "import pandas as pd\n",
    "\n",
    "# Load the dataset\n",
    "file_path = 'labeled_lyrics_cleaned.csv'\n",
    "lyrics_data = pd.read_csv(file_path)\n",
    "\n",
    "file_path = 'SpotifyFeatures.csv'\n",
    "track_data = pd.read_csv(file_path)\n",
    "\n",
    "# Display the first few rows of the dataset to understand its structure\n",
    "lyrics_data.head()\n",
    "\n"
   ]
  },
  {
   "cell_type": "code",
   "execution_count": null,
   "metadata": {},
   "outputs": [],
   "source": [
    "track_data.head()\n"
   ]
  },
  {
   "cell_type": "code",
   "execution_count": null,
   "metadata": {},
   "outputs": [],
   "source": [
    "\n",
    "# Merge the two datasets inner join on song title and artist name\n",
    "lyrics_merge = pd.merge(lyrics_data, track_data, how='inner', left_on=['song', 'artist'], right_on=['track_name', 'artist_name'])\n",
    "\n",
    "\n"
   ]
  },
  {
   "cell_type": "code",
   "execution_count": null,
   "metadata": {},
   "outputs": [],
   "source": [
    "lyrics_merge['seq'] = lyrics_merge['seq'].replace('¶', ' ', regex=True)\n",
    "\n",
    "# Add sentence length\n",
    "lyrics_merge['lyrics_length'] = lyrics_merge['seq'].apply(lambda x: len(x.split()))\n",
    "\n",
    "# Drop lyrics column\n",
    "lyrics_merge.drop(columns=['seq'], inplace=True)\n",
    "\n",
    "lyrics_merge.head()"
   ]
  },
  {
   "cell_type": "code",
   "execution_count": 1,
   "metadata": {},
   "outputs": [
    {
     "ename": "NameError",
     "evalue": "name 'lyrics_merge' is not defined",
     "output_type": "error",
     "traceback": [
      "\u001b[0;31m---------------------------------------------------------------------------\u001b[0m",
      "\u001b[0;31mNameError\u001b[0m                                 Traceback (most recent call last)",
      "Cell \u001b[0;32mIn[1], line 2\u001b[0m\n\u001b[1;32m      1\u001b[0m \u001b[38;5;66;03m# remove the rows with genre with less than 100 songs\u001b[39;00m\n\u001b[0;32m----> 2\u001b[0m lyrics_merge \u001b[38;5;241m=\u001b[39m \u001b[43mlyrics_merge\u001b[49m\u001b[38;5;241m.\u001b[39mgroupby(\u001b[38;5;124m'\u001b[39m\u001b[38;5;124mgenre\u001b[39m\u001b[38;5;124m'\u001b[39m)\u001b[38;5;241m.\u001b[39mfilter(\u001b[38;5;28;01mlambda\u001b[39;00m x: \u001b[38;5;28mlen\u001b[39m(x) \u001b[38;5;241m>\u001b[39m \u001b[38;5;241m400\u001b[39m)\n\u001b[1;32m      4\u001b[0m \u001b[38;5;28mprint\u001b[39m(lyrics_merge[\u001b[38;5;124m'\u001b[39m\u001b[38;5;124mgenre\u001b[39m\u001b[38;5;124m'\u001b[39m]\u001b[38;5;241m.\u001b[39mvalue_counts())\n\u001b[1;32m      6\u001b[0m genres \u001b[38;5;241m=\u001b[39m lyrics_merge[\u001b[38;5;124m'\u001b[39m\u001b[38;5;124mgenre\u001b[39m\u001b[38;5;124m'\u001b[39m]\u001b[38;5;241m.\u001b[39munique()\n",
      "\u001b[0;31mNameError\u001b[0m: name 'lyrics_merge' is not defined"
     ]
    }
   ],
   "source": [
    "# remove the rows with genre with less than 100 songs\n",
    "lyrics_merge = lyrics_merge.groupby('genre').filter(lambda x: len(x) > 400)\n",
    "\n",
    "print(lyrics_merge['genre'].value_counts())\n",
    "\n",
    "genres = lyrics_merge['genre'].unique()\n",
    "for genre in genres:\n",
    "    print(genre)\n",
    "    print(lyrics_merge[lyrics_merge['genre'] == genre].head())\n",
    "    \n",
    "\n"
   ]
  }
 ],
 "metadata": {
  "kernelspec": {
   "display_name": "Python 3",
   "language": "python",
   "name": "python3"
  },
  "language_info": {
   "codemirror_mode": {
    "name": "ipython",
    "version": 3
   },
   "file_extension": ".py",
   "mimetype": "text/x-python",
   "name": "python",
   "nbconvert_exporter": "python",
   "pygments_lexer": "ipython3",
   "version": "3.10.12"
  }
 },
 "nbformat": 4,
 "nbformat_minor": 2
}
